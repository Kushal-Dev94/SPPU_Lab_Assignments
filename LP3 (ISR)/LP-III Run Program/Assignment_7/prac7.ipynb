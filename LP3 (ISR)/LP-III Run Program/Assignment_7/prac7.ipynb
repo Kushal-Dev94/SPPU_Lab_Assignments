{
 "cells": [
  {
   "cell_type": "code",
   "execution_count": 2,
   "id": "daf29a12",
   "metadata": {},
   "outputs": [],
   "source": [
    "import requests\n",
    "from bs4 import BeautifulSoup\n",
    "import pandas as pd"
   ]
  },
  {
   "cell_type": "code",
   "execution_count": 3,
   "id": "4b4d3429",
   "metadata": {},
   "outputs": [],
   "source": [
    "baseurl = \"https://www.thewhiskyexchange.com\"\n",
    "\n",
    "headers = {'User-Agent': 'Mozilla/5.0 (Windows NT 10.0; Win64; x64) AppleWebKit/537.36 (KHTML, like Gecko) Chrome/89.0.4389.82 Safari/537.36'}\n",
    "productlinks = []\n",
    "t={}\n",
    "data=[]\n",
    "c=0"
   ]
  },
  {
   "cell_type": "code",
   "execution_count": 4,
   "id": "fc632b1c",
   "metadata": {},
   "outputs": [],
   "source": [
    "for x in range(1,6):\n",
    "    k = requests.get('https://www.thewhiskyexchange.com/c/35/japanese-whisky?pg={}&psize=24&sort=pasc'.format(x)).text\n",
    "    soup=BeautifulSoup(k,'html.parser')\n",
    "    productlist = soup.find_all(\"li\",{\"class\":\"product-grid__item\"})\n",
    "\n",
    "\n",
    "    for product in productlist:\n",
    "        link = product.find(\"a\",{\"class\":\"product-card\"}).get('href')\n",
    "        productlinks.append(baseurl + link)\n"
   ]
  },
  {
   "cell_type": "code",
   "execution_count": null,
   "id": "d34ba5ad",
   "metadata": {},
   "outputs": [
    {
     "name": "stdout",
     "output_type": "stream",
     "text": [
      "completed 1\n",
      "completed 2\n",
      "completed 3\n",
      "completed 4\n",
      "completed 5\n",
      "completed 6\n",
      "completed 7\n",
      "completed 8\n",
      "completed 9\n",
      "completed 10\n",
      "completed 11\n",
      "completed 12\n",
      "completed 13\n",
      "completed 14\n",
      "completed 15\n",
      "completed 16\n",
      "completed 17\n",
      "completed 18\n",
      "completed 19\n",
      "completed 20\n",
      "completed 21\n",
      "completed 22\n",
      "completed 23\n",
      "completed 24\n",
      "completed 25\n",
      "completed 26\n",
      "completed 27\n",
      "completed 28\n",
      "completed 29\n",
      "completed 30\n",
      "completed 31\n",
      "completed 32\n",
      "completed 33\n",
      "completed 34\n",
      "completed 35\n",
      "completed 36\n",
      "completed 37\n",
      "completed 38\n",
      "completed 39\n",
      "completed 40\n",
      "completed 41\n",
      "completed 42\n",
      "completed 43\n",
      "completed 44\n",
      "completed 45\n",
      "completed 46\n",
      "completed 47\n",
      "completed 48\n",
      "completed 49\n",
      "completed 50\n",
      "completed 51\n",
      "completed 52\n",
      "completed 53\n",
      "completed 54\n",
      "completed 55\n",
      "completed 56\n",
      "completed 57\n",
      "completed 58\n",
      "completed 59\n",
      "completed 60\n",
      "completed 61\n",
      "completed 62\n",
      "completed 63\n",
      "completed 64\n",
      "completed 65\n",
      "completed 66\n",
      "completed 67\n",
      "completed 68\n",
      "completed 69\n",
      "completed 70\n"
     ]
    }
   ],
   "source": [
    "for link in productlinks:\n",
    "    f = requests.get(link,headers=headers).text\n",
    "    hun=BeautifulSoup(f,'html.parser')\n",
    "\n",
    "    try:\n",
    "        price=hun.find(\"p\",{\"class\":\"product-action__price\"}).text.replace('\\n',\"\")\n",
    "    except:\n",
    "        price = None\n",
    "\n",
    "    try:\n",
    "        about=hun.find(\"div\",{\"class\":\"product-main__description\"}).text.replace('\\n',\"\")\n",
    "    except:\n",
    "        about=None\n",
    "\n",
    "    try:\n",
    "        rating = hun.find(\"div\",{\"class\":\"review-overview\"}).text.replace('\\n',\"\")\n",
    "    except:\n",
    "        rating=None\n",
    "\n",
    "    try:\n",
    "        name=hun.find(\"h1\",{\"class\":\"product-main__name\"}).text.replace('\\n',\"\")\n",
    "    except:\n",
    "        name=None\n",
    "\n",
    "    whisky = {\"name\":name,\"price\":price,\"rating\":rating,\"about\":about}\n",
    "\n",
    "    data.append(whisky)\n",
    "    c=c+1\n",
    "    print(\"completed\",c)\n",
    "\n",
    "df = pd.DataFrame(data)\n",
    "df"
   ]
  },
  {
   "cell_type": "code",
   "execution_count": null,
   "id": "adc5f3c9",
   "metadata": {},
   "outputs": [],
   "source": [
    "df = pd.DataFrame(data)\n",
    "df"
   ]
  },
  {
   "cell_type": "code",
   "execution_count": null,
   "id": "3ada60e3",
   "metadata": {},
   "outputs": [],
   "source": []
  },
  {
   "cell_type": "code",
   "execution_count": null,
   "id": "f4435207",
   "metadata": {},
   "outputs": [],
   "source": []
  },
  {
   "cell_type": "code",
   "execution_count": null,
   "id": "f8bcd380",
   "metadata": {},
   "outputs": [],
   "source": []
  },
  {
   "cell_type": "code",
   "execution_count": null,
   "id": "29d9a275",
   "metadata": {},
   "outputs": [],
   "source": []
  },
  {
   "cell_type": "code",
   "execution_count": null,
   "id": "72759986",
   "metadata": {},
   "outputs": [],
   "source": []
  },
  {
   "cell_type": "code",
   "execution_count": null,
   "id": "b321f0c8",
   "metadata": {},
   "outputs": [],
   "source": []
  },
  {
   "cell_type": "code",
   "execution_count": null,
   "id": "2ebbc958",
   "metadata": {},
   "outputs": [],
   "source": []
  },
  {
   "cell_type": "code",
   "execution_count": null,
   "id": "9bebfa53",
   "metadata": {},
   "outputs": [],
   "source": []
  },
  {
   "cell_type": "code",
   "execution_count": null,
   "id": "464dfdcb",
   "metadata": {},
   "outputs": [],
   "source": []
  },
  {
   "cell_type": "code",
   "execution_count": null,
   "id": "010e1a60",
   "metadata": {},
   "outputs": [],
   "source": []
  },
  {
   "cell_type": "code",
   "execution_count": null,
   "id": "45517ff7",
   "metadata": {},
   "outputs": [],
   "source": []
  },
  {
   "cell_type": "code",
   "execution_count": null,
   "id": "781d2a69",
   "metadata": {},
   "outputs": [],
   "source": []
  }
 ],
 "metadata": {
  "kernelspec": {
   "display_name": "Python 3 (ipykernel)",
   "language": "python",
   "name": "python3"
  },
  "language_info": {
   "codemirror_mode": {
    "name": "ipython",
    "version": 3
   },
   "file_extension": ".py",
   "mimetype": "text/x-python",
   "name": "python",
   "nbconvert_exporter": "python",
   "pygments_lexer": "ipython3",
   "version": "3.10.5"
  }
 },
 "nbformat": 4,
 "nbformat_minor": 5
}
